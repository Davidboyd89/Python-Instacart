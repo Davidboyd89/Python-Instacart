{
 "cells": [
  {
   "cell_type": "code",
   "execution_count": 1,
   "id": "c1e304bf-0e6e-409d-9695-1e16978861a9",
   "metadata": {},
   "outputs": [],
   "source": [
    "x = 30"
   ]
  },
  {
   "cell_type": "code",
   "execution_count": 2,
   "id": "d72f1f53-4b5f-4cff-9055-b5d2a35c5f4d",
   "metadata": {},
   "outputs": [],
   "source": [
    "y = 70"
   ]
  },
  {
   "cell_type": "code",
   "execution_count": 3,
   "id": "7581be8f-3597-4312-b42e-a1c84ffac52e",
   "metadata": {},
   "outputs": [
    {
     "data": {
      "text/plain": [
       "100"
      ]
     },
     "execution_count": 3,
     "metadata": {},
     "output_type": "execute_result"
    }
   ],
   "source": [
    "x + y"
   ]
  },
  {
   "cell_type": "code",
   "execution_count": 4,
   "id": "3fd0afec-e49c-48fd-9ec6-2c3062526e8f",
   "metadata": {},
   "outputs": [],
   "source": [
    "a = 120"
   ]
  },
  {
   "cell_type": "code",
   "execution_count": 5,
   "id": "73e24e00-c670-448d-9256-82bceef470bf",
   "metadata": {},
   "outputs": [],
   "source": [
    "b = 20"
   ]
  },
  {
   "cell_type": "code",
   "execution_count": 6,
   "id": "f264a6fc-e90b-43dd-bd9c-1087d207fdbe",
   "metadata": {},
   "outputs": [
    {
     "data": {
      "text/plain": [
       "100"
      ]
     },
     "execution_count": 6,
     "metadata": {},
     "output_type": "execute_result"
    }
   ],
   "source": [
    "a - b"
   ]
  },
  {
   "cell_type": "code",
   "execution_count": 7,
   "id": "9ba92314-a8e9-4f78-9089-904039a45dd9",
   "metadata": {},
   "outputs": [],
   "source": [
    "c = 30"
   ]
  },
  {
   "cell_type": "code",
   "execution_count": 8,
   "id": "ba1aa68e-fb5d-4a94-8e03-3ee2a7b0a0d2",
   "metadata": {},
   "outputs": [],
   "source": [
    "d = 70"
   ]
  },
  {
   "cell_type": "code",
   "execution_count": 9,
   "id": "ac830435-1345-4835-8403-3ab835e803fa",
   "metadata": {},
   "outputs": [
    {
     "data": {
      "text/plain": [
       "100"
      ]
     },
     "execution_count": 9,
     "metadata": {},
     "output_type": "execute_result"
    }
   ],
   "source": [
    "c + d"
   ]
  },
  {
   "cell_type": "code",
   "execution_count": 10,
   "id": "7fcc6adc-7d0f-48f9-9854-4ff2cf2c8ee0",
   "metadata": {},
   "outputs": [],
   "source": [
    "g = 4.2"
   ]
  },
  {
   "cell_type": "code",
   "execution_count": 11,
   "id": "7f05979c-96e1-4200-ae49-9086c54c4c8b",
   "metadata": {},
   "outputs": [],
   "source": [
    "h = 1.2"
   ]
  },
  {
   "cell_type": "code",
   "execution_count": 12,
   "id": "5f12a5a6-0066-463b-8b87-e1ec672d3a2f",
   "metadata": {},
   "outputs": [
    {
     "data": {
      "text/plain": [
       "3.5000000000000004"
      ]
     },
     "execution_count": 12,
     "metadata": {},
     "output_type": "execute_result"
    }
   ],
   "source": [
    "g / h"
   ]
  },
  {
   "cell_type": "code",
   "execution_count": 13,
   "id": "723bc115-7de8-422e-a7ad-2678b31b91b0",
   "metadata": {},
   "outputs": [],
   "source": [
    "j = \"What time \""
   ]
  },
  {
   "cell_type": "code",
   "execution_count": 14,
   "id": "70f1c0c3-6281-442a-ac28-a6879b27aac0",
   "metadata": {},
   "outputs": [],
   "source": [
    "k = \"is it there?\""
   ]
  },
  {
   "cell_type": "code",
   "execution_count": 15,
   "id": "24cebb3b-3c48-4faf-87cf-8fde96a7bb79",
   "metadata": {},
   "outputs": [
    {
     "data": {
      "text/plain": [
       "'What time is it there?'"
      ]
     },
     "execution_count": 15,
     "metadata": {},
     "output_type": "execute_result"
    }
   ],
   "source": [
    "j + k"
   ]
  },
  {
   "cell_type": "code",
   "execution_count": 16,
   "id": "947f66d1-468f-45cf-ae3e-4ac88c51dd88",
   "metadata": {},
   "outputs": [],
   "source": [
    "l = \"Are you a fan \""
   ]
  },
  {
   "cell_type": "code",
   "execution_count": 17,
   "id": "de613286-5aad-4730-b899-8825126f809c",
   "metadata": {},
   "outputs": [],
   "source": [
    "m = \"of any sports?\""
   ]
  },
  {
   "cell_type": "code",
   "execution_count": 18,
   "id": "8f8b115f-73a7-4ab4-a92a-7902fec0c697",
   "metadata": {},
   "outputs": [
    {
     "data": {
      "text/plain": [
       "'Are you a fan of any sports?'"
      ]
     },
     "execution_count": 18,
     "metadata": {},
     "output_type": "execute_result"
    }
   ],
   "source": [
    "l + m"
   ]
  },
  {
   "cell_type": "code",
   "execution_count": null,
   "id": "b6665942-3b97-4c8f-a783-364ba35f30e5",
   "metadata": {},
   "outputs": [],
   "source": []
  }
 ],
 "metadata": {
  "kernelspec": {
   "display_name": "Python 3 (ipykernel)",
   "language": "python",
   "name": "python3"
  },
  "language_info": {
   "codemirror_mode": {
    "name": "ipython",
    "version": 3
   },
   "file_extension": ".py",
   "mimetype": "text/x-python",
   "name": "python",
   "nbconvert_exporter": "python",
   "pygments_lexer": "ipython3",
   "version": "3.10.9"
  }
 },
 "nbformat": 4,
 "nbformat_minor": 5
}
